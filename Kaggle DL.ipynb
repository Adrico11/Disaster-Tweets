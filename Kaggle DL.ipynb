{
 "cells": [
  {
   "cell_type": "markdown",
   "metadata": {},
   "source": [
    "**KAGGLE COMPETITION : DEEP LEARNING APPROACH**\n",
    "\n",
    "**A. Preprocessing**\n",
    "1. Import libraries\n",
    "2. Import dataset\n",
    "3. Basic data cleaning : get rid of null values, punctuation and html tags\n",
    "4. NLP data preprocessing : remove stop words, stem/lemmatize words\n",
    "5. Word embeddings\n",
    "<!-- 5. Test-Train split\n",
    "6. Vecorize data (fit on the train data and use on train+test data) with countvec or tfidfvec\n",
    "7. Oversample data (deal with imbalanced data with SMOTE) -->\n",
    "\n",
    "**B. Models**\n",
    "\n",
    "Implement DL models (RNN,LSTM,BERT...)\n",
    "\n",
    "**C. Make prediction** \n",
    "\n",
    "Submit predictions and put my name on the leaderboard !!"
   ]
  },
  {
   "cell_type": "code",
   "execution_count": 25,
   "metadata": {},
   "outputs": [
    {
     "name": "stderr",
     "output_type": "stream",
     "text": [
      "[nltk_data] Downloading package wordnet to\n",
      "[nltk_data]     C:\\Users\\adrie\\AppData\\Roaming\\nltk_data...\n",
      "[nltk_data]   Package wordnet is already up-to-date!\n",
      "[nltk_data] Downloading package stopwords to\n",
      "[nltk_data]     C:\\Users\\adrie\\AppData\\Roaming\\nltk_data...\n",
      "[nltk_data]   Package stopwords is already up-to-date!\n"
     ]
    }
   ],
   "source": [
    "import pandas as pd\n",
    "import numpy as np\n",
    "import regex as re\n",
    "import os\n",
    "import pickle\n",
    "import scipy\n",
    "import nltk\n",
    "from imblearn.over_sampling import SMOTE\n",
    "from nltk.stem.porter import PorterStemmer\n",
    "nltk.download('wordnet')\n",
    "nltk.download('stopwords')\n",
    "from nltk.corpus import stopwords\n",
    "from nltk.stem import WordNetLemmatizer\n",
    "from sklearn.model_selection import train_test_split\n",
    "from sklearn.feature_extraction.text import CountVectorizer, TfidfVectorizer #, ENGLISH_STOP_WORDS"
   ]
  },
  {
   "cell_type": "code",
   "execution_count": 29,
   "metadata": {},
   "outputs": [],
   "source": [
    "# Fix contractions ???\n",
    "# import contractions\n",
    "# text = [contractions.fix(word) for word in text]\n",
    "\n",
    "# Only keep English words ? (too computationally heavy ?, worth it since we only take the most common words ?)\n",
    "# nltk.download('words')\n",
    "# from nltk.corpus import words\n",
    "# \"would\" in words.words()\n",
    "\n",
    "# Horrible Accident Man Died In Wings Of ÛÏAirplaneÛ 29-07-2015. WTF You CanÛªt Believe Your EYES ÛÒ... http://t.co/6fFyLAjWpS\n",
    "# Aftershock ã¢ (2010) Fullã¢ Streaming - YouTube http://t.co/vVE3UsesGf\n",
    "\n",
    "def clean_reviews(review):\n",
    "    #get rid of all main abbreviations and urls (and replace them with \"http\") + find and replace all punctuation with \"\" and all html tags with \" \" + lower\n",
    "    bad_lingo = [\"rt\", \"û_\", \"amp\", \"ûª\", \"ûªs\", \"ûò\", \"ûï\", \"ûó\", \"åè\", \"ìñ1\", \"\\x89\", \"...\", \"..\", \"via\"]\n",
    "    review = \" \".join([re.sub('http.*','http',word) for word in review.split() if word not in bad_lingo]) \n",
    "    REPLACE_NO_SPACE = re.compile(\"[.;:*#@!ã¢ÛÏ=><\\'?,\\\"()\\[\\]]\")\n",
    "    REPLACE_WITH_SPACE = re.compile(\"(<br\\s*/><br\\s*/>)|(\\-)|(\\/)\")\n",
    "    review = REPLACE_NO_SPACE.sub(\"\", review.lower()) \n",
    "    review = REPLACE_WITH_SPACE.sub(\" \", review)\n",
    "    return review\n",
    "\n",
    "def remove_repeating_words(review):\n",
    "    #review1 = ' '.join(set(review.split()))\n",
    "    review = ' '.join(dict.fromkeys(review.split()))\n",
    "    return review\n",
    "\n",
    "def remove_stop_words(review):\n",
    "    #stop_words_list = ENGLISH_STOP_WORDS #stop_words.\n",
    "    stop_words_list = set(stopwords.words('english'))\n",
    "    review = \" \".join(word for word in review.split(\" \") if word not in stop_words_list)\n",
    "    return review\n",
    "\n",
    "def stem_reviews(review):\n",
    "    # PB : NEED TO INITIATE A NEW STEMMER FOR EACH ROW...\n",
    "    stemmer = PorterStemmer()\n",
    "    #separator.join(list of strings) => 1 long string\n",
    "    #string.split(separator) => list of strings\n",
    "    review = \" \".join([stemmer.stem(word) for word in review.split(\" \")])\n",
    "    return review\n",
    "\n",
    "def lemmatize_reviews(review):\n",
    "    lemmatizer = WordNetLemmatizer()\n",
    "    #separator.join(list of strings) => 1 long string\n",
    "    #string.split(separator) => list of strings\n",
    "    review = \" \".join([lemmatizer.lemmatize(word) for word in review.split(\" \")])\n",
    "    return review\n",
    "\n",
    "def oversample(data_list):\n",
    "    [X_train, y_train, X_eval, y_eval] = data_list\n",
    "    sm = SMOTE()\n",
    "    X_train_sm, y_train_sm = sm.fit_resample(X_train,y_train)\n",
    "    X_eval_sm, y_eval_sm = sm.fit_resample(X_eval,y_eval)\n",
    "    assert len(y_train_sm.value_counts().unique())==1 and len(y_eval_sm.value_counts().unique())==1\n",
    "    return [X_train_sm, y_train_sm,X_eval_sm, y_eval_sm]\n",
    "\n",
    "# Add tokenization ?\n",
    "# twt = nltk.tokenize.TweetTokenizer(preserve_case=False, strip_handles=True, reduce_len=True)\n",
    "# a = twt.tokenize(a)\n"
   ]
  },
  {
   "cell_type": "code",
   "execution_count": 30,
   "metadata": {},
   "outputs": [],
   "source": [
    "def read_input_data(filename, separator, use_cols, header, col_dict):\n",
    "    print(\"Reading input data\")\n",
    "    df = pd.read_csv(filename, sep = separator, usecols = use_cols, header = header)\n",
    "    df.rename(columns = col_dict, inplace = True)\n",
    "    print(df.shape)\n",
    "    print(df.head())\n",
    "    return df\n",
    "\n",
    "def basic_clean(df) -> None:\n",
    "    print(\"Basic Data Preprocessing : \\n Dropping null values \\n Getting rid of punctuation and HTML tags + text in lowercase \\n Removing repeating words\")\n",
    "    df.dropna(inplace = True)\n",
    "    df[\"Reviews\"] = df[\"Reviews\"].apply(lambda row : remove_repeating_words(clean_reviews(row)))\n",
    "\n",
    "\n",
    "def nlp_clean(df, nlp_method) -> None:\n",
    "    print(\"NLP Data Preprocessing : Removing stop words \\n Stemming/Lemmatizing reviews\")\n",
    "    if nlp_method == \"stem\":\n",
    "        df[\"Reviews\"] = df[\"Reviews\"].apply(lambda row : stem_reviews(remove_stop_words(row)))\n",
    "    elif nlp_method == \"lemmatize\":\n",
    "        df[\"Reviews\"] = df[\"Reviews\"].apply(lambda row : lemmatize_reviews(remove_stop_words(row)))\n",
    "    else:\n",
    "        df[\"Reviews\"] = df[\"Reviews\"].apply(lambda row : remove_stop_words(row))\n",
    "\n",
    "\n",
    "# there seem to be some issues with the data list...\n",
    "def data_split(X, y, test_size = 0.2, random_state = 42) -> None:\n",
    "    y_ohe = pd.get_dummies(y)\n",
    "    print(y_ohe)\n",
    "    data_list = train_test_split(X,y_ohe,test_size=test_size,random_state=random_state)\n",
    "    return data_list"
   ]
  },
  {
   "cell_type": "code",
   "execution_count": 31,
   "metadata": {},
   "outputs": [
    {
     "name": "stdout",
     "output_type": "stream",
     "text": [
      "Reading input data\n",
      "(7613, 2)\n",
      "                                             Reviews  Sentiments\n",
      "0  Our Deeds are the Reason of this #earthquake M...           1\n",
      "1             Forest fire near La Ronge Sask. Canada           1\n",
      "2  All residents asked to 'shelter in place' are ...           1\n",
      "3  13,000 people receive #wildfires evacuation or...           1\n",
      "4  Just got sent this photo from Ruby #Alaska as ...           1\n",
      "Basic Data Preprocessing : \n",
      " Dropping null values \n",
      " Getting rid of punctuation and HTML tags + text in lowercase \n",
      " Removing repeating words\n",
      "NLP Data Preprocessing : Removing stop words \n",
      " Stemming/Lemmatizing reviews\n",
      "                                             Reviews  Sentiments\n",
      "0         deed reason earthquake may allah forgive u           1\n",
      "1              forest fire near la ronge sask canada           1\n",
      "2  resident asked shelter place notified officer ...           1\n",
      "3  13000 people receive wildfire evacuation order...           1\n",
      "4  got sent photo ruby alaska smoke wildfire pour...           1\n"
     ]
    }
   ],
   "source": [
    "# print(\"**************** PREPROCESSING TRAIN DATA ****************\")\n",
    "# train_vec, train_data_list = data_preprocessor_train(\"train.tsv\", '\\t', 0, [2, 3], {\"Phrase\":\"Reviews\",\"Sentiment\":\"Sentiments\"})\n",
    "# print(\"**************** PREPROCESSING TEST DATA ****************\")\n",
    "# test_vec, test_data = data_processor_test(\"test.tsv\", '\\t', 0, [0, 2], [0],{\"Phrase\":\"Reviews\"}, train_vec) #NO NEED FOR THE PHRASEID COLUMN (INDEX IS NOT NECESSARY)\n",
    "\n",
    "df = read_input_data(\"data/train.csv\", ',', [3,4],0,{\"text\":\"Reviews\",\"target\":\"Sentiments\"})\n",
    "basic_clean(df)\n",
    "nlp_clean(df,\"lemmatize\")\n",
    "df.to_csv(\"nlp_clean_df.csv\",index=False)\n",
    "print(df.head())"
   ]
  },
  {
   "cell_type": "code",
   "execution_count": 13,
   "metadata": {},
   "outputs": [
    {
     "name": "stderr",
     "output_type": "stream",
     "text": [
      "Using TensorFlow backend.\n"
     ]
    }
   ],
   "source": [
    "from keras.preprocessing.text import Tokenizer\n",
    "from keras.preprocessing.sequence import pad_sequences\n",
    "from keras import regularizers\n",
    "\n",
    "MAX_WORDS = 2500\n",
    "MAX_LEN = 200\n",
    "\n",
    "def tokenize_data(df, tk = None, max_words = MAX_WORDS, max_len = MAX_LEN):\n",
    "    data = df['Reviews'].values.tolist()\n",
    "    print(data[:10])\n",
    "    if tk == None:\n",
    "        tokenizer = Tokenizer(num_words=max_words)\n",
    "        tokenizer.fit_on_texts(data)\n",
    "    else:\n",
    "        tokenizer = tk\n",
    "    sequences_init = tokenizer.texts_to_sequences(data)\n",
    "    sequences = pad_sequences(sequences_init, maxlen=max_len)\n",
    "    print(f\"Size of input tokenized data :\\n(Nb of samples, sequence length) = {sequences.shape}\")\n",
    "    # print(sequences)\n",
    "    return sequences, tokenizer\n",
    "\n"
   ]
  },
  {
   "cell_type": "code",
   "execution_count": 14,
   "metadata": {},
   "outputs": [
    {
     "name": "stdout",
     "output_type": "stream",
     "text": [
      "['deed reason earthquake may allah forgive u', 'forest fire near la ronge sask canada', 'resident asked shelter place notified officer evacuation order expected', '13000 people receive wildfire evacuation order california', 'got sent photo ruby alaska smoke wildfire pours school', 'rockyfire update california hwy 20 closed direction due lake county fire cafire wildfire', 'flood disaster heavy rain cause flash flooding street manitou colorado spring area', 'im top hill see fire wood', 'there emergency evacuation happening building across street', 'im afraid tornado coming area']\n",
      "Size of input tokenized data :\n",
      "(Nb of samples, sequence length) = (7613, 200)\n",
      "      0  1\n",
      "0     0  1\n",
      "1     0  1\n",
      "2     0  1\n",
      "3     0  1\n",
      "4     0  1\n",
      "...  .. ..\n",
      "7608  0  1\n",
      "7609  0  1\n",
      "7610  0  1\n",
      "7611  0  1\n",
      "7612  0  1\n",
      "\n",
      "[7613 rows x 2 columns]\n"
     ]
    },
    {
     "data": {
      "text/plain": [
       "[array([[   0,    0,    0, ...,  174,    1,    2],\n",
       "        [   0,    0,    0, ..., 2250,  368,  141],\n",
       "        [   0,    0,    0, ...,   46,    1,    2],\n",
       "        ...,\n",
       "        [   0,    0,    0, ...,  949,    1,    2],\n",
       "        [   0,    0,    0, ...,  470,    1,    2],\n",
       "        [   0,    0,    0, ...,   18,    1,    2]]),\n",
       " array([[   0,    0,    0, ...,  126, 1270,  285],\n",
       "        [   0,    0,    0, ...,  326,   53, 1590],\n",
       "        [   0,    0,    0, ..., 1706,    1,    2],\n",
       "        ...,\n",
       "        [   0,    0,    0, ...,    1,    2,   10],\n",
       "        [   0,    0,    0, ...,  184,    1,    2],\n",
       "        [   0,    0,    0, ...,  343,    1,    2]]),\n",
       "       0  1\n",
       " 4996  0  1\n",
       " 3263  1  0\n",
       " 4907  0  1\n",
       " 2855  0  1\n",
       " 4716  1  0\n",
       " ...  .. ..\n",
       " 5226  1  0\n",
       " 5390  1  0\n",
       " 860   1  0\n",
       " 7603  0  1\n",
       " 7270  0  1\n",
       " \n",
       " [6090 rows x 2 columns],\n",
       "       0  1\n",
       " 2644  0  1\n",
       " 2227  1  0\n",
       " 5448  0  1\n",
       " 132   1  0\n",
       " 6845  1  0\n",
       " ...  .. ..\n",
       " 1835  1  0\n",
       " 506   0  1\n",
       " 3592  0  1\n",
       " 6740  0  1\n",
       " 1634  1  0\n",
       " \n",
       " [1523 rows x 2 columns]]"
      ]
     },
     "execution_count": 14,
     "metadata": {},
     "output_type": "execute_result"
    }
   ],
   "source": [
    "sequences, tokenizer = tokenize_data(df)\n",
    "data_list = data_split(sequences, df[\"Sentiments\"])\n",
    "data_list\n"
   ]
  },
  {
   "cell_type": "code",
   "execution_count": 15,
   "metadata": {},
   "outputs": [],
   "source": [
    "from keras.models import Sequential\n",
    "from keras import layers\n",
    "from keras import regularizers\n",
    "from keras import backend as K\n",
    "from keras.callbacks import ModelCheckpoint\n",
    "\n",
    "\n",
    "def get_f1(y_true, y_pred): #taken from old keras source code\n",
    "    true_positives = K.sum(K.round(K.clip(y_true * y_pred, 0, 1)))\n",
    "    possible_positives = K.sum(K.round(K.clip(y_true, 0, 1)))\n",
    "    predicted_positives = K.sum(K.round(K.clip(y_pred, 0, 1)))\n",
    "    precision = true_positives / (predicted_positives + K.epsilon())\n",
    "    recall = true_positives / (possible_positives + K.epsilon())\n",
    "    f1_val = 2*(precision*recall)/(precision+recall+K.epsilon())\n",
    "    return f1_val\n",
    "\n",
    "def simple_model(data_list, type):\n",
    "    model_name = f\"simple_model_{type}\"\n",
    "    X_train, X_test, y_train, y_test = data_list\n",
    "    print(X_train.shape)\n",
    "    print(X_test.shape)\n",
    "    print(y_train.shape)\n",
    "    print(y_test.shape)\n",
    "    model1 = Sequential()\n",
    "    model1.add(layers.Embedding(MAX_WORDS, 20, input_length=MAX_LEN)) #The embedding layer\n",
    "    if type == \"lstm\":\n",
    "        model1.add(layers.LSTM(15,dropout=0.5)) #Our LSTM layer with dropout (regularization)\n",
    "    else:\n",
    "    # Possibility to add multiple RNN layers instead of a single LSTM layer\n",
    "    # NEED TO RETURN ALL SEQUENCES !!!\n",
    "        model1.add(layers.SimpleRNN(15, return_sequences=True))\n",
    "        model1.add(layers.SimpleRNN(15, dropout=0.5))\n",
    "    model1.add(layers.Dense(2,activation='sigmoid')) #Activation function for binary classifiation\n",
    "    # OUTPUT VECTORS MUST BE ONE HOT ENCODED !!!!!!!!!!!!!\n",
    "    print(model1.summary())\n",
    "\n",
    "    model1.compile(optimizer='adam',loss='binary_crossentropy', metrics=[get_f1]) #other optimizer : rmsprop, adadelta\n",
    "\n",
    "    model_file_name = f\"best_{model_name}.hdf5\"\n",
    "    checkpoint1 = ModelCheckpoint(model_file_name, monitor='val_get_f1', verbose=5,save_best_only=True, mode='max', period=1,save_weights_only=False)\n",
    "    history = model1.fit(X_train, y_train, epochs=20,batch_size=128,validation_data=(X_test, y_test),callbacks=[checkpoint1])\n",
    "    return history, model_name\n",
    "\n",
    "def bid_model(data_list):\n",
    "    model_name = \"bid_model\"\n",
    "    X_train, X_test, y_train, y_test = data_list\n",
    "    model2 = Sequential()\n",
    "    model2.add(layers.Embedding(MAX_WORDS, 40, input_length=MAX_LEN))\n",
    "    model2.add(layers.Bidirectional(layers.LSTM(128,dropout=0.2))) #0.2\n",
    "    model2.add(layers.Dense(64, activation = 'relu'))\n",
    "    model2.add(layers.Dropout(0.5))\n",
    "    model2.add(layers.Dense(2,activation='sigmoid'))\n",
    "    print(model2.summary())\n",
    "    model2.compile(optimizer='adam',loss='binary_crossentropy', metrics=[get_f1]) \n",
    "    model_file_name = f\"best_{model_name}.hdf5\"\n",
    "    checkpoint2 = ModelCheckpoint(model_file_name, monitor='val_get_f1', verbose=5,save_best_only=True, mode='max', period=1,save_weights_only=False)\n",
    "    history = model2.fit(X_train, y_train, epochs=10,batch_size=128, validation_data=(X_test, y_test),callbacks=[checkpoint2])\n",
    "    return history, model_name\n",
    "\n",
    "def conv1D_model(data_list):\n",
    "    model_name = \"conv1D_model\"\n",
    "    X_train, X_test, y_train, y_test = data_list\n",
    "    model3 = Sequential()\n",
    "    model3.add(layers.Embedding(MAX_WORDS, 40, input_length=MAX_LEN))\n",
    "    model3.add(layers.Conv1D(20, 6, activation='relu',kernel_regularizer=regularizers.l1_l2(l1=2e-3, l2=2e-3),bias_regularizer=regularizers.l2(2e-3)))\n",
    "    model3.add(layers.MaxPooling1D(5))\n",
    "    model3.add(layers.Conv1D(20, 6, activation='relu',kernel_regularizer=regularizers.l1_l2(l1=2e-3, l2=2e-3),bias_regularizer=regularizers.l2(2e-3)))\n",
    "    model3.add(layers.GlobalMaxPooling1D())\n",
    "    model3.add(layers.Dense(2,activation='sigmoid'))\n",
    "    print(model3.summary())\n",
    "    model3.compile(optimizer='adam',loss='binary_crossentropy',metrics=[get_f1])\n",
    "    model_file_name = f\"best_{model_name}.hdf5\"\n",
    "    checkpoint3 = ModelCheckpoint(model_file_name, monitor='val_get_f1', verbose=5,save_best_only=True, mode='max', period=1,save_weights_only=False)\n",
    "    history = model3.fit(X_train, y_train, epochs=20,batch_size=128,validation_data=(X_test, y_test), callbacks=[checkpoint3])\n",
    "    return history, model_name\n"
   ]
  },
  {
   "cell_type": "code",
   "execution_count": 16,
   "metadata": {},
   "outputs": [
    {
     "name": "stdout",
     "output_type": "stream",
     "text": [
      "Model: \"sequential_1\"\n",
      "_________________________________________________________________\n",
      "Layer (type)                 Output Shape              Param #   \n",
      "=================================================================\n",
      "embedding_1 (Embedding)      (None, 200, 40)           100000    \n",
      "_________________________________________________________________\n",
      "bidirectional_1 (Bidirection (None, 256)               173056    \n",
      "_________________________________________________________________\n",
      "dense_1 (Dense)              (None, 64)                16448     \n",
      "_________________________________________________________________\n",
      "dropout_1 (Dropout)          (None, 64)                0         \n",
      "_________________________________________________________________\n",
      "dense_2 (Dense)              (None, 2)                 130       \n",
      "=================================================================\n",
      "Total params: 289,634\n",
      "Trainable params: 289,634\n",
      "Non-trainable params: 0\n",
      "_________________________________________________________________\n",
      "None\n"
     ]
    },
    {
     "name": "stderr",
     "output_type": "stream",
     "text": [
      "C:\\Users\\adrie\\anaconda3\\envs\\sentiment\\lib\\site-packages\\tensorflow_core\\python\\framework\\indexed_slices.py:433: UserWarning: Converting sparse IndexedSlices to a dense Tensor of unknown shape. This may consume a large amount of memory.\n",
      "  \"Converting sparse IndexedSlices to a dense Tensor of unknown shape. \"\n"
     ]
    },
    {
     "name": "stdout",
     "output_type": "stream",
     "text": [
      "Train on 6090 samples, validate on 1523 samples\n",
      "Epoch 1/10\n",
      "6090/6090 [==============================] - 61s 10ms/step - loss: 0.6524 - get_f1: 0.6066 - val_loss: 0.5594 - val_get_f1: 0.7603\n",
      "\n",
      "Epoch 00001: val_get_f1 improved from -inf to 0.76033, saving model to best_bid_model.hdf5\n",
      "Epoch 2/10\n",
      "6090/6090 [==============================] - 68s 11ms/step - loss: 0.4467 - get_f1: 0.8133 - val_loss: 0.4284 - val_get_f1: 0.8066\n",
      "\n",
      "Epoch 00002: val_get_f1 improved from 0.76033 to 0.80660, saving model to best_bid_model.hdf5\n",
      "Epoch 3/10\n",
      "6090/6090 [==============================] - 34s 6ms/step - loss: 0.3514 - get_f1: 0.8599 - val_loss: 0.4443 - val_get_f1: 0.7932\n",
      "\n",
      "Epoch 00003: val_get_f1 did not improve from 0.80660\n",
      "Epoch 4/10\n",
      "6090/6090 [==============================] - 35s 6ms/step - loss: 0.3063 - get_f1: 0.8821 - val_loss: 0.4893 - val_get_f1: 0.7849\n",
      "\n",
      "Epoch 00004: val_get_f1 did not improve from 0.80660\n",
      "Epoch 5/10\n",
      "6090/6090 [==============================] - 35s 6ms/step - loss: 0.2822 - get_f1: 0.8936 - val_loss: 0.4976 - val_get_f1: 0.7916\n",
      "\n",
      "Epoch 00005: val_get_f1 did not improve from 0.80660\n",
      "Epoch 6/10\n",
      "6090/6090 [==============================] - 35s 6ms/step - loss: 0.2627 - get_f1: 0.9004 - val_loss: 0.5490 - val_get_f1: 0.7768\n",
      "\n",
      "Epoch 00006: val_get_f1 did not improve from 0.80660\n",
      "Epoch 7/10\n",
      "6090/6090 [==============================] - 35s 6ms/step - loss: 0.2396 - get_f1: 0.9131 - val_loss: 0.5775 - val_get_f1: 0.7708\n",
      "\n",
      "Epoch 00007: val_get_f1 did not improve from 0.80660\n",
      "Epoch 8/10\n",
      "6090/6090 [==============================] - 34s 6ms/step - loss: 0.2313 - get_f1: 0.9141 - val_loss: 0.6116 - val_get_f1: 0.7726\n",
      "\n",
      "Epoch 00008: val_get_f1 did not improve from 0.80660\n",
      "Epoch 9/10\n",
      "6090/6090 [==============================] - 38s 6ms/step - loss: 0.2169 - get_f1: 0.9201 - val_loss: 0.6565 - val_get_f1: 0.7644\n",
      "\n",
      "Epoch 00009: val_get_f1 did not improve from 0.80660\n",
      "Epoch 10/10\n",
      "6090/6090 [==============================] - 39s 6ms/step - loss: 0.2028 - get_f1: 0.9237 - val_loss: 0.7027 - val_get_f1: 0.7666\n",
      "\n",
      "Epoch 00010: val_get_f1 did not improve from 0.80660\n",
      "418.3853552341461\n",
      "{'val_loss': [0.5594435150656196, 0.4283680258342019, 0.4443086137211174, 0.48931304256303954, 0.4976419954024407, 0.5489914063865702, 0.5775257508690547, 0.6116051645710996, 0.6565123712711246, 0.7026530731608815], 'val_get_f1': [0.7603314518928528, 0.8065962791442871, 0.7932372689247131, 0.7849013805389404, 0.7915590405464172, 0.7767944931983948, 0.7708186507225037, 0.7726423144340515, 0.7644334435462952, 0.766598641872406], 'loss': [0.6523705070437664, 0.4466522508066863, 0.35143632870198077, 0.30631173562338004, 0.2821619337806952, 0.26265380840583386, 0.23957492447838993, 0.23127264639818415, 0.21694227341067027, 0.20282373769921427], 'get_f1': [0.60658085, 0.81331915, 0.8599108, 0.88214874, 0.8935738, 0.9003834, 0.91306263, 0.9140621, 0.9200549, 0.92371315]}\n"
     ]
    }
   ],
   "source": [
    "from time import time\n",
    "t0 = time()\n",
    "# history, model_name = simple_model(data_list, \"lstm\")\n",
    "history, model_name = bid_model(data_list)\n",
    "# history, model_name = conv1D_model(data_list)\n",
    "train_time = time() - t0\n",
    "print(train_time)\n",
    "print(history.history)"
   ]
  },
  {
   "cell_type": "code",
   "execution_count": 17,
   "metadata": {},
   "outputs": [
    {
     "name": "stdout",
     "output_type": "stream",
     "text": [
      "{'val_loss': [0.5594435150656196, 0.4283680258342019, 0.4443086137211174, 0.48931304256303954, 0.4976419954024407, 0.5489914063865702, 0.5775257508690547, 0.6116051645710996, 0.6565123712711246, 0.7026530731608815], 'val_get_f1': [0.7603314518928528, 0.8065962791442871, 0.7932372689247131, 0.7849013805389404, 0.7915590405464172, 0.7767944931983948, 0.7708186507225037, 0.7726423144340515, 0.7644334435462952, 0.766598641872406], 'loss': [0.6523705070437664, 0.4466522508066863, 0.35143632870198077, 0.30631173562338004, 0.2821619337806952, 0.26265380840583386, 0.23957492447838993, 0.23127264639818415, 0.21694227341067027, 0.20282373769921427], 'get_f1': [0.60658085, 0.81331915, 0.8599108, 0.88214874, 0.8935738, 0.9003834, 0.91306263, 0.9140621, 0.9200549, 0.92371315]}\n"
     ]
    },
    {
     "data": {
      "image/png": "[encoded data removed]",
      "text/plain": [
       "<Figure size 432x288 with 1 Axes>"
      ]
     },
     "metadata": {
      "needs_background": "light"
     },
     "output_type": "display_data"
    },
    {
     "data": {
      "image/png": "[encoded data removed]",
      "text/plain": [
       "<Figure size 432x288 with 1 Axes>"
      ]
     },
     "metadata": {
      "needs_background": "light"
     },
     "output_type": "display_data"
    },
    {
     "data": {
      "text/plain": [
       "<Figure size 432x288 with 0 Axes>"
      ]
     },
     "metadata": {},
     "output_type": "display_data"
    }
   ],
   "source": [
    "%matplotlib inline\n",
    "import matplotlib.pyplot as plt\n",
    "import matplotlib.image as mpimg\n",
    "f1 = history.history['get_f1']\n",
    "val_f1 = history.history['val_get_f1']\n",
    "loss = history.history['loss']\n",
    "val_loss = history.history['val_loss']\n",
    "epochs=range(len(f1))\n",
    "plt.plot(epochs, f1, 'r', 'Training F1')\n",
    "plt.plot(epochs, val_f1, 'b', 'Validation F1')\n",
    "plt.title('Training and validation F1')\n",
    "plt.figure()\n",
    "plt.plot(epochs, loss, 'r', 'Training Loss')\n",
    "plt.plot(epochs, val_loss, 'b', 'Validation Loss')\n",
    "plt.title('Training and validation loss')\n",
    "plt.figure()\n",
    "print(history.history)"
   ]
  },
  {
   "cell_type": "code",
   "execution_count": 18,
   "metadata": {},
   "outputs": [
    {
     "name": "stdout",
     "output_type": "stream",
     "text": [
      "Reading input data\n",
      "(3263, 1)\n",
      "                                             Reviews\n",
      "0                 Just happened a terrible car crash\n",
      "1  Heard about #earthquake is different cities, s...\n",
      "2  there is a forest fire at spot pond, geese are...\n",
      "3           Apocalypse lighting. #Spokane #wildfires\n",
      "4      Typhoon Soudelor kills 28 in China and Taiwan\n",
      "Basic Data Preprocessing : \n",
      " Dropping null values \n",
      " Getting rid of punctuation and HTML tags + text in lowercase \n",
      " Removing repeating words\n",
      "NLP Data Preprocessing : Removing stop words \n",
      " Stemming/Lemmatizing reviews\n",
      "['happened terrible car crash', 'heard earthquake different city stay safe everyone', 'forest fire spot pond goose fleeing across street cannot save', 'apocalypse lighting spokane wildfire', 'typhoon soudelor kill 28 china taiwan', 'shakingits earthquake', 'theyd probably still show life arsenal yesterday eh', 'hey', 'nice hat', 'fuck']\n",
      "Size of input tokenized data :\n",
      "(Nb of samples, sequence length) = (3263, 200)\n",
      "[[   0    0    0 ... 1755   44   38]\n",
      " [   0    0    0 ...  474 1666  165]\n",
      " [   0    0    0 ...  460 1266  302]\n",
      " ...\n",
      " [   0    0    0 ...  823    1    2]\n",
      " [   0    0    0 ... 1721    1    2]\n",
      " [   0    0    0 ... 1550   19  100]]\n"
     ]
    },
    {
     "name": "stderr",
     "output_type": "stream",
     "text": [
      "C:\\Users\\adrie\\anaconda3\\envs\\sentiment\\lib\\site-packages\\tensorflow_core\\python\\framework\\indexed_slices.py:433: UserWarning: Converting sparse IndexedSlices to a dense Tensor of unknown shape. This may consume a large amount of memory.\n",
      "  \"Converting sparse IndexedSlices to a dense Tensor of unknown shape. \"\n"
     ]
    }
   ],
   "source": [
    "from keras import models\n",
    "\n",
    "df_test = read_input_data(\"data/test.csv\", ',', [3],0,{\"text\":\"Reviews\"})\n",
    "basic_clean(df_test)\n",
    "nlp_clean(df_test,\"lemmatize\")\n",
    "X_pred, _ = tokenize_data(df_test, tk = tokenizer)\n",
    "print(X_pred)\n",
    "\n",
    "dependencies = {\n",
    "    'get_f1': get_f1\n",
    "}\n",
    "model_file_name = f\"best_{model_name}.hdf5\"\n",
    "final_model = models.load_model(model_file_name, custom_objects=dependencies)\n",
    "final_pred = final_model.predict_classes(X_pred)\n",
    "# index = pd.read_csv(\"test.tsv\", sep = '\\t').index\n",
    "\n",
    "submission = pd.read_csv(\"data/test.csv\",usecols=[0])\n",
    "submission[\"target\"] = final_pred  #pd.DataFrame({\"id\":[i for i in range(156061,222353)],\"target\":y_pred})\n",
    "submission.to_csv(f\"Submission_{model_name}.csv\", index=False)"
   ]
  },
  {
   "cell_type": "code",
   "execution_count": null,
   "metadata": {},
   "outputs": [],
   "source": []
  }
 ],
 "metadata": {
  "interpreter": {
   "hash": "89dc794d539d73779b3fe852555a2ba6a47713f109fb082adb0c727d8b90d0fa"
  },
  "kernelspec": {
   "display_name": "Python 3.7.9 64-bit ('sentiment': conda)",
   "language": "python",
   "name": "python3"
  },
  "language_info": {
   "codemirror_mode": {
    "name": "ipython",
    "version": 3
   },
   "file_extension": ".py",
   "mimetype": "text/x-python",
   "name": "python",
   "nbconvert_exporter": "python",
   "pygments_lexer": "ipython3",
   "version": "3.7.9"
  },
  "orig_nbformat": 4
 },
 "nbformat": 4,
 "nbformat_minor": 2
}
